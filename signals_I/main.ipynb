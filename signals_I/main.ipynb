{
 "cells": [
  {
   "cell_type": "markdown",
   "metadata": {},
   "source": [
    "# ZADANIE 1"
   ]
  },
  {
   "cell_type": "markdown",
   "metadata": {},
   "source": [
    "a) Wykonaj poniższy skrypt i przeanalizuj go:"
   ]
  },
  {
   "cell_type": "code",
   "execution_count": null,
   "metadata": {},
   "outputs": [],
   "source": [
    "from __future__ import division\n",
    "from pylab import *\n",
    "from numpy import *\n",
    "from numpy import *\n",
    "from scipy import *\n",
    "from ipywidgets import *\n",
    "import math as mt\n",
    "import random as rng\n",
    "from matplotlib.ticker import AutoMinorLocator\n",
    "\n",
    "%matplotlib inline\n",
    "\n",
    "# (kod został opakowany w funkcję, aby środowisko nie podpowiadało zmiennych)\n",
    "def foo():\n",
    "    A = 1\n",
    "    # amplituda sygnału\n",
    "\n",
    "    LP = 1\n",
    "    # liczba analizowanych pełnych przebiegów sygnału (okresów)\n",
    "\n",
    "    w = 40           \n",
    "    # częstotliwość próbkowania [Hz] sygnału \n",
    "    # (jak często w ciągu sekundy pobieramy informacje o wartości sygnału)\n",
    "\n",
    "    f = 2.0           \n",
    "    # częstotliwość sygnalu [Hz]\n",
    "\n",
    "    T = 1.0/f        \n",
    "    # okres sygnalu [s] (jak długo trwa jeden przebieg sinusa)\n",
    "\n",
    "    TW = 1.0/w        \n",
    "    # okres probkowania [s] (co ile sekund pobieramy próbkę)\n",
    "\n",
    "    t = np.arange(0, LP*T, TW)\n",
    "    # generujemy momenty, w których pobieramy próbki\n",
    "\n",
    "    n = len(t)\n",
    "        \n",
    "    FUNC = lambda t : A*sin(2*pi*t*f)    \n",
    "    # def. funkcji (tutaj sinus)\n",
    "\n",
    "    signal = FUNC(t)                 \n",
    "    # funkcja spróbkowana\n",
    "\n",
    "    fig = plt.figure(figsize=(15, 6), dpi=80)   \n",
    "    ax = fig.add_subplot(121)\n",
    "\n",
    "    ## --- POMOCNICZY SYGNAŁ\n",
    "    base_t = np.arange(0, LP*T, 1.0/200.0)\n",
    "    base_signal = FUNC(base_t)\n",
    "    ax.plot(base_t, base_signal, linestyle='-', color='red')\n",
    "    ax.set_ylim([min(base_signal), max(base_signal)])\n",
    "    ## --- \n",
    "\n",
    "    ax.plot(t, signal, 'o')\n",
    "\n",
    "    signal1 = fft.fft(signal)\n",
    "    # sygnal w dziedzinie czestotliwosci \n",
    "\n",
    "    signal1 = abs(signal1)        \n",
    "    # modul sygnalu\n",
    "\n",
    "    freqs = range(int(n))\n",
    "\n",
    "    ax = fig.add_subplot(122)\n",
    "    ymax = max(signal1)\n",
    "    if (ymax > 3.0):\n",
    "        ax.set_ylim([0.0,ymax])\n",
    "    else:\n",
    "        ax.set_ylim([0.0,3.0])\n",
    "    stem(freqs, signal1, '-*')\n",
    "\n",
    "    show()\n",
    "\n",
    "foo()"
   ]
  },
  {
   "cell_type": "markdown",
   "metadata": {},
   "source": [
    "UWAGA: do dalszych ćwiczeń warto powyższy skrypt przekształcić na funkcję o wielu argumentach, typu: amplituda, częstotliwość próbkowania, liczba przebiegów. Oczywiście dla wygody, należy nadać wartości domyślne argumentom funkcji."
   ]
  },
  {
   "cell_type": "code",
   "execution_count": null,
   "metadata": {
    "collapsed": true
   },
   "outputs": [],
   "source": [
    "# zdefiniowana funkcja\n",
    "\n",
    "# parametry to odpowiednio: a, LP, w, f \n",
    "def draw_signal(amplitude=1, interval_num=1, sampling_freq=40, signal_freq=2):\n",
    "    signal_interval = 1.0 / signal_freq\n",
    "    sampling_interval = 1.0 / sampling_freq\n",
    "\n",
    "    # momenty pobrania próbek - t\n",
    "    t = np.arange(0, interval_num * signal_interval, sampling_interval)\n",
    "    n = len(t)\n",
    "           \n",
    "    # funkcja sygnału - sin\n",
    "    FUNC = lambda x : amplitude * sin( 2*pi * x * signal_freq ) \n",
    "    # przebieg sygnału\n",
    "    signal = FUNC(t)\n",
    "\n",
    "    # pomocniczy sygnał (momenty pobierania próbek oraz przebieg)\n",
    "    base_t = np.arange(0, interval_num * signal_interval, 1.0 / 200.0) \n",
    "    base_signal = FUNC(base_t)\n",
    "\n",
    "    # przygotowanie figury \n",
    "    fig = plt.figure(figsize=(15, 6), dpi=80)\n",
    "    # narysowanie pierwszego wykresu\n",
    "    ax = fig.add_subplot(121)\n",
    "    ax.plot(base_t, base_signal, linestyle='-', color='red')\n",
    "    ax.plot(t, signal, 'o')\n",
    "    # ax.set_ylim([min(base_signal), max(base_signal)])\n",
    "    ax.set_ylim([-amplitude, amplitude])\n",
    "    ax.xaxis.set_minor_locator(AutoMinorLocator(5))\n",
    "    ax.yaxis.set_minor_locator(AutoMinorLocator(5))\n",
    "    ax.grid()\n",
    "\n",
    "    # moduł sygnału w dziedzinie czestotliwosci \n",
    "    freq_domain_signal = abs(fft.fft(signal))\n",
    "    # zakres częstotliwości w oparciu o częstotliwość próbkowania\n",
    "    freqs = range(n)\n",
    "\n",
    "    # narysowanie drugiego wykresu\n",
    "    ax = fig.add_subplot(122)\n",
    "    ax.set_ylim([0.0, max([3.0, max(freq_domain_signal)])])\n",
    "    ax.xaxis.set_minor_locator(AutoMinorLocator(5))\n",
    "    ax.yaxis.set_minor_locator(AutoMinorLocator(5))\n",
    "    stem(freqs, freq_domain_signal, '-*')\n",
    "\n",
    "    show()\n",
    "\n",
    "draw_signal()"
   ]
  },
  {
   "cell_type": "markdown",
   "metadata": {},
   "source": [
    "UWAGA DLA CHĘTNYCH: można wykorzystać 'interact', dzięki któremu można zmieniać parametry danej funkcji i na bierząco obserwować zmiany. Poniższy kod przedstawia sposób wykorzystania interact:"
   ]
  },
  {
   "cell_type": "code",
   "execution_count": null,
   "metadata": {
    "collapsed": true
   },
   "outputs": [],
   "source": [
    "# nasza wersja zamienia import 'ipykernel.pylab.backend_inline' na 'matplotlib_inline.backend_inline'\n",
    "# wykorzystywana funkcja się nie zmienia ('flush_figures')\n",
    "from matplotlib_inline.backend_inline import flush_figures\n",
    "\n",
    "interact(draw_signal, amplitude=(0.1, 5, 0.1), \n",
    "         interval_num=(1, 10, 1),\n",
    "         sampling_freq=(10, 200, 10),\n",
    "         signal_freq=(0.1, 10, 0.1))"
   ]
  },
  {
   "cell_type": "markdown",
   "metadata": {},
   "source": [
    "b) Zmień częstotliwość próbkowania na 50Hz."
   ]
  },
  {
   "cell_type": "code",
   "execution_count": null,
   "metadata": {
    "collapsed": true
   },
   "outputs": [],
   "source": [
    "# w=50\n",
    "\n",
    "# draw_signal(sampling_freq=50)\n",
    "interact(draw_signal, amplitude=(0.1, 5, 0.1), \n",
    "         interval_num=(1, 10, 1),\n",
    "         sampling_freq=fixed(50),\n",
    "         signal_freq=(0.1, 10, 0.1))"
   ]
  },
  {
   "cell_type": "markdown",
   "metadata": {},
   "source": [
    "c) Punkty na osi OX spektrum są teraz kolejnymi liczbami naturalnymi, a nie częstotliwościami w Hz. Popraw skrypt (funkcje), tak aby oś OX spektrum była w Hz (podpowiedź: oś OX rozpoczyna się od 0Hz, a kończy się na (prawie!) Hz, gdzie jest częstotliwością próbkowania). Następnie: Upewnij się, że spektrum dla 1Hz-owego sinusa i pięciu (LP=5) analizowanych przebiegów wygląda teraz prawidłowo."
   ]
  },
  {
   "cell_type": "code",
   "execution_count": null,
   "metadata": {
    "collapsed": true
   },
   "outputs": [],
   "source": [
    "# popraw oś OX\n",
    "\n",
    "def draw_signal(amplitude=1, interval_num=1, sampling_freq=40, signal_freq=2):\n",
    "    signal_interval = 1.0 / signal_freq\n",
    "    sampling_interval = 1.0 / sampling_freq\n",
    "\n",
    "    # momenty pobrania próbek - t\n",
    "    t = np.arange(0, interval_num * signal_interval, sampling_interval)\n",
    "    n = len(t)\n",
    "           \n",
    "    # funkcja sygnału - sin\n",
    "    FUNC = lambda x : amplitude * sin( 2*pi * x * signal_freq ) \n",
    "    # przebieg sygnału\n",
    "    signal = FUNC(t)\n",
    "\n",
    "    # pomocniczy sygnał (momenty pobierania próbek oraz przebieg)\n",
    "    base_t = np.arange(0, interval_num * signal_interval, 1.0 / 200.0) \n",
    "    base_signal = FUNC(base_t)\n",
    "    \n",
    "    # przygotowanie figury \n",
    "    fig = plt.figure(figsize=(15, 6), dpi=80)\n",
    "    # narysowanie pierwszego wykresu\n",
    "    ax = fig.add_subplot(121)\n",
    "    ax.plot(base_t, base_signal, linestyle='-', color='red')\n",
    "    ax.plot(t, signal, 'o')\n",
    "    # ax.set_ylim([min(base_signal), max(base_signal)])\n",
    "    ax.set_ylim([-amplitude, amplitude])\n",
    "    ax.xaxis.set_minor_locator(AutoMinorLocator(5))\n",
    "    ax.yaxis.set_minor_locator(AutoMinorLocator(5))\n",
    "    ax.grid()\n",
    "\n",
    "    # moduł sygnału w dziedzinie częstotliwosci \n",
    "    freq_domain_signal = abs(fft.fft(signal))\n",
    "    # zakres częstotliwości w oparciu o częstotliwość próbkowania\n",
    "    freqs = linspace(0, sampling_freq, n, False)\n",
    "\n",
    "    # narysowanie drugiego wykresu\n",
    "    ax = fig.add_subplot(122)\n",
    "    ax.set_ylim([0.0, max([3.0, max(freq_domain_signal)])])\n",
    "    ax.xaxis.set_minor_locator(AutoMinorLocator(5))\n",
    "    ax.yaxis.set_minor_locator(AutoMinorLocator(5))\n",
    "    stem(freqs, freq_domain_signal, '-*')\n",
    "\n",
    "    show()\n",
    "\n",
    "# draw_signal(interval_num=5, signal_freq=1)\n",
    "interact(draw_signal, amplitude=(0.1, 5, 0.1), \n",
    "         interval_num=fixed(5),\n",
    "         sampling_freq=(10, 200, 10),\n",
    "         signal_freq=fixed(1))"
   ]
  },
  {
   "cell_type": "markdown",
   "metadata": {},
   "source": [
    "d) Podpisz osie obu wykresów, używając funkcji xlabel() i ylabel(). Pamiętaj o jednostkach."
   ]
  },
  {
   "cell_type": "code",
   "execution_count": null,
   "metadata": {
    "collapsed": true
   },
   "outputs": [],
   "source": [
    "# podpisz osie wykresów\n",
    "\n",
    "def draw_signal(amplitude=1, interval_num=1, sampling_freq=40, signal_freq=2):\n",
    "    signal_interval = 1.0 / signal_freq\n",
    "    sampling_interval = 1.0 / sampling_freq\n",
    "\n",
    "    # momenty pobrania próbek - t\n",
    "    t = np.arange(0, interval_num * signal_interval, sampling_interval)\n",
    "    n = len(t)\n",
    "           \n",
    "    # funkcja sygnału - sin\n",
    "    FUNC = lambda x : amplitude * sin( 2*pi * x * signal_freq ) \n",
    "    # przebieg sygnału\n",
    "    signal = FUNC(t)\n",
    "\n",
    "    # pomocniczy sygnał (momenty pobierania próbek oraz przebieg)\n",
    "    base_t = np.arange(0, interval_num * signal_interval, 1.0 / 200.0) \n",
    "    base_signal = FUNC(base_t)\n",
    "    \n",
    "    # przygotowanie figury \n",
    "    fig = plt.figure(figsize=(15, 6), dpi=80)\n",
    "    # narysowanie pierwszego wykresu\n",
    "    ax = fig.add_subplot(121)\n",
    "    ax.plot(base_t, base_signal, linestyle='-', color='red')\n",
    "    ax.plot(t, signal, 'o')\n",
    "    # ax.set_ylim([min(base_signal), max(base_signal)])\n",
    "    ax.set_ylim([-amplitude, amplitude])\n",
    "    ax.set_xlabel('Czas [s]')\n",
    "    ax.set_ylabel('Wartość sygnału')\n",
    "    ax.xaxis.set_minor_locator(AutoMinorLocator(5))\n",
    "    ax.yaxis.set_minor_locator(AutoMinorLocator(5))\n",
    "    ax.grid()\n",
    "\n",
    "    # moduł sygnału w dziedzinie czestotliwosci \n",
    "    freq_domain_signal = abs(fft.fft(signal))\n",
    "    # zakres częstotliwości w oparciu o częstotliwość próbkowania\n",
    "    freqs = linspace(0, sampling_freq, n, False)\n",
    "\n",
    "    # narysowanie drugiego wykresu\n",
    "    ax = fig.add_subplot(122)\n",
    "    ax.set_ylim([0.0, max([3.0, max(freq_domain_signal)])])\n",
    "    ax.set_xlabel('Częstotliwość [Hz]')\n",
    "    ax.set_ylabel('Moduł dyskretnej transformaty Fouriera')\n",
    "    ax.xaxis.set_minor_locator(AutoMinorLocator(5))\n",
    "    ax.yaxis.set_minor_locator(AutoMinorLocator(5))\n",
    "    stem(freqs, freq_domain_signal, '-*')\n",
    "\n",
    "    show()\n",
    "\n",
    "interact(draw_signal, amplitude=(0.1, 5, 0.1), \n",
    "         interval_num=(1, 10, 1),\n",
    "         sampling_freq=(10, 200, 10),\n",
    "         signal_freq=(0.1, 10, 0.1))"
   ]
  },
  {
   "cell_type": "markdown",
   "metadata": {},
   "source": [
    "f) Porównaj spektrum funkcji $sin(2*pi*f*t)$, $2*sin(2*pi*f*t)$ i $3*sin(2*pi*f*t)$. Jak zmienia się wartość na osi OY na wykresie spektrum?"
   ]
  },
  {
   "cell_type": "markdown",
   "metadata": {},
   "source": [
    "<font color=\"red\">\n",
    "Odpowiedź: Wartość na osi OY na wykresie spektrum rośnie proporcjonalnie wraz ze wzrostem wartości amplitudy w funckji sygnału.\n",
    "</font>"
   ]
  },
  {
   "cell_type": "code",
   "execution_count": null,
   "metadata": {
    "collapsed": true
   },
   "outputs": [],
   "source": [
    "# f=1, A=1, LP=1\n",
    "interact(draw_signal, amplitude=fixed(1), \n",
    "         interval_num=fixed(1),\n",
    "         sampling_freq=(10, 200, 10),\n",
    "         signal_freq=fixed(1))"
   ]
  },
  {
   "cell_type": "code",
   "execution_count": null,
   "metadata": {
    "collapsed": true
   },
   "outputs": [],
   "source": [
    "# f=1, A=2, LP=1\n",
    "interact(draw_signal, amplitude=fixed(2), \n",
    "         interval_num=fixed(1),\n",
    "         sampling_freq=(10, 200, 10),\n",
    "         signal_freq=fixed(1))"
   ]
  },
  {
   "cell_type": "code",
   "execution_count": null,
   "metadata": {
    "collapsed": true,
    "scrolled": true
   },
   "outputs": [],
   "source": [
    "# f=1, A=3, LP=1\n",
    "interact(draw_signal, amplitude=fixed(3), \n",
    "         interval_num=fixed(1),\n",
    "         sampling_freq=(10, 200, 10),\n",
    "         signal_freq=fixed(1))"
   ]
  },
  {
   "cell_type": "markdown",
   "metadata": {},
   "source": [
    "g) Ile punktów jest na wykresach przy częstotliwości próbkowania 50Hz, T=1s? Zwiększ dwukrotnie liczbę próbek poprzez zwiększenie częstotliwości próbkowania. Następnie: dla $sin(2*pi*f*t)$ porównaj wartość na osi OY spektrum uzyskane w tym oraz poprzednim punkcie."
   ]
  },
  {
   "cell_type": "markdown",
   "metadata": {},
   "source": [
    "<font color=\"red\">\n",
    "Odpowiedź: Na wykresie przy częstotliwości próbkowania 50 [Hz], T = 1 [s] znajduje się 50 punktów.\n",
    "\n",
    "Zwiększenie częstotliwości próbkowania proporcjonalnie zwiększyło wartość na osi OY spektrum. (Podobnie jak przy zmianie amplitudy)\n",
    "</font>\n"
   ]
  },
  {
   "cell_type": "code",
   "execution_count": null,
   "metadata": {
    "collapsed": true
   },
   "outputs": [],
   "source": [
    "# f=1, w=50, LP=1\n",
    "interact(draw_signal, amplitude=(0.1, 5, 0.1), \n",
    "         interval_num=fixed(1),\n",
    "         sampling_freq=fixed(50),\n",
    "         signal_freq=fixed(1))"
   ]
  },
  {
   "cell_type": "code",
   "execution_count": null,
   "metadata": {
    "collapsed": true
   },
   "outputs": [],
   "source": [
    "# f=1, w=100, LP=1\n",
    "interact(draw_signal, amplitude=(0.1, 5, 0.1), \n",
    "         interval_num=fixed(1),\n",
    "         sampling_freq=fixed(100),\n",
    "         signal_freq=fixed(1))"
   ]
  },
  {
   "cell_type": "markdown",
   "metadata": {},
   "source": [
    "h) Na podstawie wyników uzyskanych w dwóch poprzednich punktach przeskaluj oś OY spektrum tak, aby wskazywała wartości amplitud badanych sygnałów. Sprawdź wyniki dla kilku wybranych funkcji."
   ]
  },
  {
   "cell_type": "code",
   "execution_count": null,
   "metadata": {
    "collapsed": true
   },
   "outputs": [],
   "source": [
    "# popraw oś OY\n",
    "\n",
    "def draw_signal(amplitude=1, interval_num=1, sampling_freq=40, signal_freq=2):\n",
    "    signal_interval = 1.0 / signal_freq\n",
    "    sampling_interval = 1.0 / sampling_freq\n",
    "\n",
    "    # momenty pobrania próbek - t\n",
    "    t = np.arange(0, interval_num * signal_interval, sampling_interval)\n",
    "    n = len(t)\n",
    "           \n",
    "    # funkcja sygnału - sin\n",
    "    FUNC = lambda x : amplitude * sin( 2*pi * x * signal_freq ) \n",
    "    # przebieg sygnału\n",
    "    signal = FUNC(t)\n",
    "\n",
    "    # pomocniczy sygnał (momenty pobierania próbek oraz przebieg)\n",
    "    base_t = np.arange(0, interval_num * signal_interval, 1.0 / 200.0) \n",
    "    base_signal = FUNC(base_t)\n",
    "    \n",
    "    # przygotowanie figury \n",
    "    fig = plt.figure(figsize=(15, 6), dpi=80)\n",
    "    # narysowanie pierwszego wykresu\n",
    "    ax = fig.add_subplot(121)\n",
    "    ax.plot(base_t, base_signal, linestyle='-', color='red')\n",
    "    ax.plot(t, signal, 'o')\n",
    "    # ax.set_ylim([min(base_signal), max(base_signal)])\n",
    "    ax.set_ylim([-amplitude, amplitude])\n",
    "    ax.set_xlabel('Czas [s]')\n",
    "    ax.set_ylabel('Wartość sygnału')\n",
    "    ax.xaxis.set_minor_locator(AutoMinorLocator(5))\n",
    "    ax.yaxis.set_minor_locator(AutoMinorLocator(5))\n",
    "    ax.grid()\n",
    "\n",
    "    # moduł sygnału w dziedzinie czestotliwosci \n",
    "    freq_domain_signal = abs(fft.fft(signal)) / (0.5 * n)\n",
    "    # zakres częstotliwości w oparciu o częstotliwość próbkowania\n",
    "    freqs = linspace(0, sampling_freq, n, False)\n",
    "\n",
    "    # narysowanie drugiego wykresu\n",
    "    ax = fig.add_subplot(122)\n",
    "    ax.set_ylim([0.0, max([3.0, max(freq_domain_signal)])])\n",
    "    ax.set_xlabel('Częstotliwość [Hz]')\n",
    "    ax.set_ylabel('Moduł dyskretnej transformaty Fouriera')\n",
    "    ax.xaxis.set_minor_locator(AutoMinorLocator(5))\n",
    "    ax.yaxis.set_minor_locator(AutoMinorLocator(5))\n",
    "    stem(freqs, freq_domain_signal, '-*')\n",
    "\n",
    "    show()\n",
    "\n",
    "interact(draw_signal, amplitude=(0.1, 5, 0.1), \n",
    "         interval_num=(1, 10, 1),\n",
    "         sampling_freq=(10, 200, 10),\n",
    "         signal_freq=(0.1, 10, 0.1))"
   ]
  },
  {
   "cell_type": "markdown",
   "metadata": {},
   "source": [
    "# Zadanie 2"
   ]
  },
  {
   "cell_type": "markdown",
   "metadata": {},
   "source": [
    "a) Wygeneruj spektrum dla funkcji sinus o częstotliwościach 5Hz i 21Hz, dla częstotliwości próbkowania 20Hz i 20 (LP=20) analizowanych przebiegów. Czy rozpoznajesz te funkcje patrząc na ich spróbkowane wykresy? Odczytaj w drugim przypadku uzyskaną częstotliwość z FFT. Dlaczego uzyskano taki wynik?"
   ]
  },
  {
   "cell_type": "markdown",
   "metadata": {},
   "source": [
    "<font color=\"red\">\n",
    "Odpowiedź: Spróbkowana wersja pierwszej funkcji jest zgodna z faktycznym wykresem, natomiast ze spektrum drugiej funkcji odczytujemy, że ma ona częstotliwość 1 [Hz], co jest niezgodne z prawdą. Dzieje się tak z powodu dobrania zbyt małej częstotliwości próbkowania (przez co odczytane punkty ułożyły się w kształt innej funkcji).\n",
    "</font>"
   ]
  },
  {
   "cell_type": "code",
   "execution_count": null,
   "metadata": {
    "collapsed": true
   },
   "outputs": [],
   "source": [
    "# f=5, w=20, LP=20\n",
    "interact(draw_signal, amplitude=(0.1, 5, 0.1), \n",
    "         interval_num=fixed(20),\n",
    "         sampling_freq=fixed(20),\n",
    "         signal_freq=fixed(5))"
   ]
  },
  {
   "cell_type": "code",
   "execution_count": null,
   "metadata": {
    "collapsed": true
   },
   "outputs": [],
   "source": [
    "# f=21, w=20, LP=20\n",
    "interact(draw_signal, amplitude=(0.1, 5, 0.1), \n",
    "         interval_num=fixed(20),\n",
    "         sampling_freq=fixed(20),\n",
    "         signal_freq=fixed(21))"
   ]
  },
  {
   "cell_type": "markdown",
   "metadata": {},
   "source": [
    "Zwróć uwagę, że spektrum jest symetryczne (poza pierwszym elementem)."
   ]
  },
  {
   "cell_type": "markdown",
   "metadata": {},
   "source": [
    "b) Przy w=100Hz, przeanalizuj widma sygnałów:"
   ]
  },
  {
   "cell_type": "markdown",
   "metadata": {},
   "source": [
    "i) $sin(2*pi*t*f)$, $f=10Hz$"
   ]
  },
  {
   "cell_type": "code",
   "execution_count": null,
   "metadata": {
    "collapsed": true
   },
   "outputs": [],
   "source": [
    "# f=10, w=100, A=1, LP=10\n",
    "draw_signal(amplitude=1, interval_num=10, sampling_freq=100, signal_freq=10)"
   ]
  },
  {
   "cell_type": "markdown",
   "metadata": {},
   "source": [
    "ii) $sin(2*pi*t*f)$, $f=20Hz$"
   ]
  },
  {
   "cell_type": "code",
   "execution_count": null,
   "metadata": {
    "collapsed": true
   },
   "outputs": [],
   "source": [
    "# f=20, w=100, A=1, LP=10\n",
    "draw_signal(amplitude=1, interval_num=10, sampling_freq=100, signal_freq=20)"
   ]
  },
  {
   "cell_type": "markdown",
   "metadata": {},
   "source": [
    "iii) $sin(2*pi*t*f)$, $f=30Hz$ (tutaj słupki nie będą wyglądać idealnie, dlaczego?)"
   ]
  },
  {
   "cell_type": "markdown",
   "metadata": {},
   "source": [
    "<font color=\"red\">\n",
    "Odpowiedź: Słupki nie wyglądają idealnie, ponieważ korzystamy z dyskretnej transformaty Fouriera co znaczy, że nie wszystkie częstotliwości są zawarte na osi OX wykresu spektrum. Ponieważ częstotliwość 30 [Hz] nie znalazła się na osi OX, funkcja wygenerowała zbiór częstotliwości, których suma zbliżona byłaby częstotliwości 30 [Hz].  \n",
    "</font>"
   ]
  },
  {
   "cell_type": "code",
   "execution_count": null,
   "metadata": {
    "collapsed": true
   },
   "outputs": [],
   "source": [
    "# f=30, w=100, A=1, LP=10\n",
    "draw_signal(amplitude=1, interval_num=10, sampling_freq=100, signal_freq=30)"
   ]
  },
  {
   "cell_type": "markdown",
   "metadata": {},
   "source": [
    "iv) $sin(2*pi*t*f)$, $f=40Hz$"
   ]
  },
  {
   "cell_type": "code",
   "execution_count": null,
   "metadata": {
    "collapsed": true
   },
   "outputs": [],
   "source": [
    "# f=40, w=100, A=1, LP=10\n",
    "draw_signal(amplitude=1, interval_num=10, sampling_freq=100, signal_freq=40)"
   ]
  },
  {
   "cell_type": "markdown",
   "metadata": {},
   "source": [
    "c) Przy F=50Hz, w=100Hz, wygeneruj spektrum dla $sin(2*pi*f*t)$. Zwróc uwagę na skalę wykresów."
   ]
  },
  {
   "cell_type": "code",
   "execution_count": null,
   "metadata": {
    "collapsed": true
   },
   "outputs": [],
   "source": [
    "# f=50, w=100, A=1, LP=10\n",
    "draw_signal(amplitude=1, interval_num=10, sampling_freq=100, signal_freq=50)"
   ]
  },
  {
   "cell_type": "markdown",
   "metadata": {},
   "source": [
    "c) Jak się nazywa twierdzenie, którego konsekwencją jest takie zachowanie się spektrum?"
   ]
  },
  {
   "cell_type": "markdown",
   "metadata": {},
   "source": [
    "<font color=\"red\">\n",
    "Odpowiedź: twierdzenie o próbkowaniu - Jeśli sygnał ciągły nie ma składowych widma o częstotliwości równej lub większej niż B, może on zostać jednoznacznie odtworzony z ciągu jego próbek tworzących sygnał dyskretny, o ile próbki te zostały pobrane z częstotliwością co najmniej 2B.\n",
    "</font>"
   ]
  },
  {
   "cell_type": "markdown",
   "metadata": {},
   "source": [
    "# Zadanie 3"
   ]
  },
  {
   "cell_type": "markdown",
   "metadata": {},
   "source": [
    "Poniższe przypadki składają się z złożonych sygnałów. Trzeba teraz będzie zmodyfikować trochę FUNC"
   ]
  },
  {
   "cell_type": "markdown",
   "metadata": {},
   "source": [
    "a) $sin(2*pi*t*f) + 2*sin(4*pi*t*f)$, T=1s, w=20Hz."
   ]
  },
  {
   "cell_type": "code",
   "execution_count": null,
   "metadata": {
    "collapsed": true
   },
   "outputs": [],
   "source": [
    "# narysuj sygnał\n",
    "\n",
    "def draw_modified_signal(amplitude=1, interval_num=1, sampling_freq=40, signal_freq=2):\n",
    "    signal_interval = 1.0 / signal_freq\n",
    "    sampling_interval = 1.0 / sampling_freq\n",
    "\n",
    "    # momenty pobrania próbek - t\n",
    "    t = np.arange(0, interval_num * signal_interval, sampling_interval)\n",
    "    n = len(t)\n",
    "           \n",
    "    # funkcja sygnału - sin\n",
    "    FUNC = lambda x : amplitude * sin( 2*pi * x * signal_freq ) + \\\n",
    "                      amplitude * 2 * sin( 4*pi * x * signal_freq )\n",
    "    # przebieg sygnału\n",
    "    signal = FUNC(t)\n",
    "\n",
    "    # pomocniczy sygnał (momenty pobierania próbek oraz przebieg)\n",
    "    base_t = np.arange(0, interval_num * signal_interval, 1.0 / 200.0) \n",
    "    base_signal = FUNC(base_t)\n",
    "    \n",
    "    # przygotowanie figury \n",
    "    fig = plt.figure(figsize=(15, 6), dpi=80)\n",
    "    # narysowanie pierwszego wykresu\n",
    "    ax = fig.add_subplot(121)\n",
    "    ax.plot(base_t, base_signal, linestyle='-', color='red')\n",
    "    ax.plot(t, signal, 'o')\n",
    "    ax.set_ylim([min(base_signal), max(base_signal)])\n",
    "    # ax.set_ylim([-amplitude, amplitude])\n",
    "    ax.set_xlabel('Czas [s]')\n",
    "    ax.set_ylabel('Wartość sygnału')\n",
    "    ax.xaxis.set_minor_locator(AutoMinorLocator(5))\n",
    "    ax.yaxis.set_minor_locator(AutoMinorLocator(5))\n",
    "    ax.grid()\n",
    "\n",
    "    # moduł sygnału w dziedzinie czestotliwosci \n",
    "    freq_domain_signal = abs(fft.fft(signal)) / (0.5 * n)\n",
    "    # zakres częstotliwości w oparciu o częstotliwość próbkowania\n",
    "    freqs = linspace(0, sampling_freq, n, False)\n",
    "\n",
    "    # narysowanie drugiego wykresu\n",
    "    ax = fig.add_subplot(122)\n",
    "    ax.set_ylim([0.0, max([3.0, max(freq_domain_signal)])])\n",
    "    ax.set_xlabel('Częstotliwość [Hz]')\n",
    "    ax.set_ylabel('Moduł dyskretnej transformaty Fouriera')\n",
    "    ax.xaxis.set_minor_locator(AutoMinorLocator(5))\n",
    "    ax.yaxis.set_minor_locator(AutoMinorLocator(5))\n",
    "    stem(freqs, freq_domain_signal, '-*')\n",
    "\n",
    "    show()\n",
    "\n",
    "draw_modified_signal(amplitude=1, interval_num=1, sampling_freq=20, signal_freq=1)"
   ]
  },
  {
   "cell_type": "markdown",
   "metadata": {},
   "source": [
    "c) Wygenerujemy trochę szumu. Wychodząc z funkcji $sin(2*pi*t*f)$, dodamy do niej 100 losowych sinusów. Wygenerujemy dla nich losowo amplitudy (z [0.02, 0.08], częstotliwości: [5.0, 10.0] oraz modyfikacje fazy[0 + 2*pi]. Inne parametry: w=20Hz, T=1s. Czy dla powyższych parametrów losowania, jesteś w stanie odnaleźć bazowy przebieg $(sin(2*pi*t))$? Czy jesteś w stanie zlokalizować szum?"
   ]
  },
  {
   "cell_type": "markdown",
   "metadata": {},
   "source": [
    "<font color=\"red\">\n",
    "Odpowiedź: Znając charakterystykę szumu, możemy wydedukować dość dokładnie jak wygląda sygnał bazowy. Wiedząc, że częstotliwość szumu znajduje się w przedziale f = [5, 10] (co odczytujemy na spektrum jako x = [5, 10]) pozbywamy się tych wartości, po czym możemy odtworzyć sygnał bazowy (odwrócony fft).\n",
    "\n",
    "Starając się wydedukować jak wygląda sygnał bazowy nie znając charakterystyki szumu, możemy jedynie zgadywać jak wygląda sygnał bazowy, np. że sygnał wejściowy ma największą wartość amplitudy na spektrum. \n",
    "</font>"
   ]
  },
  {
   "cell_type": "code",
   "execution_count": null,
   "metadata": {
    "collapsed": true
   },
   "outputs": [],
   "source": [
    "def draw_signal_with_noise(amplitude=1, interval_num=1, sampling_freq=40, signal_freq=2):\n",
    "    signal_interval = 1.0 / signal_freq\n",
    "    sampling_interval = 1.0 / sampling_freq\n",
    "\n",
    "    # momenty pobrania próbek - t\n",
    "    t = np.arange(0, interval_num * signal_interval, sampling_interval)\n",
    "    n = len(t)\n",
    "           \n",
    "    # funkcja sygnału - sin\n",
    "    FUNC = lambda x : amplitude * sin( 2*pi * x * signal_freq ) \n",
    "    # przebieg sygnału\n",
    "    signal = FUNC(t)\n",
    "\n",
    "    # pomocniczy sygnał (momenty pobierania próbek oraz przebieg)\n",
    "    base_t = np.arange(0, interval_num * signal_interval, 1.0 / 200.0) \n",
    "    base_signal = FUNC(base_t)\n",
    "    \n",
    "    # wylosowanie parametrów funkcji\n",
    "    random_count = 100\n",
    "    a = [rng.uniform(0.02, 0.08) for _ in range(random_count)]\n",
    "    f = [rng.uniform(5, 10) for _ in range(random_count)]\n",
    "    phase = [rng.uniform(0, 2*pi) for _ in range(random_count)]\n",
    "    # dodanie losowych wartości\n",
    "    for i in range(random_count):\n",
    "        # print(f'{a[i]} * sin(2pi * t * {f[i]} + {phase[i]})')\n",
    "        RANDOM_FUNC = lambda x : a[i] * sin( 2*pi * x * f[i] + phase[i] )\n",
    "        signal += RANDOM_FUNC(t)\n",
    "        base_signal += RANDOM_FUNC(base_t)\n",
    "    \n",
    "    # przygotowanie figury \n",
    "    fig = plt.figure(figsize=(15, 6), dpi=80)\n",
    "    # narysowanie pierwszego wykresu\n",
    "    ax = fig.add_subplot(121)\n",
    "    ax.plot(base_t, base_signal, linestyle='-', color='red')\n",
    "    ax.plot(t, signal, 'o')\n",
    "    ax.set_ylim([min(base_signal), max(base_signal)])\n",
    "    # ax.set_ylim([-amplitude, amplitude])\n",
    "    ax.set_xlabel('Czas [s]')\n",
    "    ax.set_ylabel('Wartość sygnału')\n",
    "    ax.xaxis.set_minor_locator(AutoMinorLocator(5))\n",
    "    ax.yaxis.set_minor_locator(AutoMinorLocator(5))\n",
    "    ax.grid()\n",
    "\n",
    "    # moduł sygnału w dziedzinie czestotliwosci \n",
    "    freq_domain_signal = abs(fft.fft(signal)) / (0.5 * n)\n",
    "    # zakres częstotliwości w oparciu o częstotliwość próbkowania\n",
    "    freqs = linspace(0, sampling_freq, n, False)\n",
    "\n",
    "    # narysowanie drugiego wykresu\n",
    "    ax = fig.add_subplot(122)\n",
    "    ax.set_ylim([0.0, max([3.0, max(freq_domain_signal)])])\n",
    "    ax.set_xlabel('Częstotliwość [Hz]')\n",
    "    ax.set_ylabel('Moduł dyskretnej transformaty Fouriera')\n",
    "    ax.xaxis.set_minor_locator(AutoMinorLocator(5))\n",
    "    ax.yaxis.set_minor_locator(AutoMinorLocator(5))\n",
    "    stem(freqs, freq_domain_signal, '-*')\n",
    "\n",
    "    show()\n",
    "\n",
    "draw_signal_with_noise(amplitude=1, interval_num=1, sampling_freq=20, signal_freq=1)"
   ]
  },
  {
   "cell_type": "markdown",
   "metadata": {},
   "source": [
    "d) $0.5 + 2*sin(2*pi*t*f)$, T=1s, w=20Hz. Czy amplituda zerowego prążka jest prawidłowa? Dlaczego? (Podpowiedź: zwróć jeszcze raz uwagę na symetrię spektrum)."
   ]
  },
  {
   "cell_type": "markdown",
   "metadata": {},
   "source": [
    "<font color=\"red\">\n",
    "Odpowiedź: Tak, amplituda prążka jest prawidłowa. Nie odpowiada ona amplitudzie jednego z sygnałów, lecz przedstawia wartość stałą równą przesunięciu sygnału w osi OY.\n",
    "</font>"
   ]
  },
  {
   "cell_type": "code",
   "execution_count": 165,
   "metadata": {
    "collapsed": true
   },
   "outputs": [
    {
     "data": {
      "image/png": "[encoded data removed]",
      "text/plain": [
       "<Figure size 1200x480 with 2 Axes>"
      ]
     },
     "metadata": {},
     "output_type": "display_data"
    }
   ],
   "source": [
    "# narysuj sygnał\n",
    "def draw_signal_with_y_shift(amplitude=1, interval_num=1, sampling_freq=40, signal_freq=2, y_shift=0):\n",
    "    signal_interval = 1.0 / signal_freq\n",
    "    sampling_interval = 1.0 / sampling_freq\n",
    "\n",
    "    # momenty pobrania próbek - t\n",
    "    t = np.arange(0, interval_num * signal_interval, sampling_interval)\n",
    "    n = len(t)\n",
    "           \n",
    "    # funkcja sygnału - sin\n",
    "    FUNC = lambda x : amplitude * sin( 2*pi * x * signal_freq ) + y_shift\n",
    "    # przebieg sygnału\n",
    "    signal = FUNC(t)\n",
    "\n",
    "    # pomocniczy sygnał (momenty pobierania próbek oraz przebieg)\n",
    "    base_t = np.arange(0, interval_num * signal_interval, 1.0 / 200.0) \n",
    "    base_signal = FUNC(base_t)\n",
    "    \n",
    "    # przygotowanie figury \n",
    "    fig = plt.figure(figsize=(15, 6), dpi=80)\n",
    "    # narysowanie pierwszego wykresu\n",
    "    ax = fig.add_subplot(121)\n",
    "    ax.plot(base_t, base_signal, linestyle='-', color='red')\n",
    "    ax.plot(t, signal, 'o')\n",
    "    ax.plot(base_t, zeros_like(base_t), color='black')\n",
    "    ax.set_ylim([min(base_signal), max(base_signal)])\n",
    "    # ax.set_ylim([-amplitude, amplitude])\n",
    "    ax.set_xlabel('Czas [s]')\n",
    "    ax.set_ylabel('Wartość sygnału')\n",
    "    ax.xaxis.set_minor_locator(AutoMinorLocator(5))\n",
    "    ax.yaxis.set_minor_locator(AutoMinorLocator(5))\n",
    "    ax.grid()\n",
    "\n",
    "    # moduł sygnału w dziedzinie czestotliwosci \n",
    "    freq_domain_signal = abs(fft.fft(signal)) / (0.5 * n)\n",
    "    # zakres częstotliwości w oparciu o częstotliwość próbkowania\n",
    "    freqs = linspace(0, sampling_freq, n, False)\n",
    "\n",
    "    # narysowanie drugiego wykresu\n",
    "    ax = fig.add_subplot(122)\n",
    "    ax.set_ylim([0.0, max([3.0, max(freq_domain_signal)])])\n",
    "    ax.set_xlabel('Częstotliwość [Hz]')\n",
    "    ax.set_ylabel('Moduł dyskretnej transformaty Fouriera')\n",
    "    ax.xaxis.set_minor_locator(AutoMinorLocator(5))\n",
    "    ax.yaxis.set_minor_locator(AutoMinorLocator(5))\n",
    "    stem(freqs, freq_domain_signal, '-*')\n",
    "\n",
    "    show()\n",
    "\n",
    "draw_signal_with_y_shift(amplitude=2, interval_num=1, sampling_freq=20, signal_freq=1, y_shift=0.5)"
   ]
  },
  {
   "cell_type": "markdown",
   "metadata": {},
   "source": [
    "e) $sin(2*pi*t*f)$ oraz $sin(2*pi*t*f + pi/4)$ dla T=1s, w=20Hz. Czy informacja o fazie zniknęła? Poszukaj śladów tej informacji w tablicy, będącej wynikiem operacji fft(signal). (funkcja angle(sygnal, deg=True))"
   ]
  },
  {
   "cell_type": "markdown",
   "metadata": {},
   "source": [
    "<font color=\"red\">\n",
    "Odpowiedź: Informacja o zmianie nie znalazła się na wykresie spektrum, informację o zmianie fazy możemy odnaleźć stosując funkcję angle na sygnale bazowym po transformacji fft.\n",
    "</font>"
   ]
  },
  {
   "cell_type": "code",
   "execution_count": 187,
   "metadata": {
    "collapsed": true
   },
   "outputs": [
    {
     "name": "stdout",
     "output_type": "stream",
     "text": [
      "freq_domain_signal -  [-180.          -90.          136.83676759  -95.18159659    0.\n",
      "  -96.00900596    0.           40.87936219   31.02458614  133.15238973\n",
      " -180.         -133.15238973  -31.02458614  -40.87936219   -0.\n",
      "   96.00900596   -0.           95.18159659 -136.83676759   90.        ]\n"
     ]
    },
    {
     "data": {
      "image/png": "[encoded data removed]",
      "text/plain": [
       "<Figure size 1200x480 with 2 Axes>"
      ]
     },
     "metadata": {},
     "output_type": "display_data"
    }
   ],
   "source": [
    "# faza = 0\n",
    "def draw_signal_with_phase(amplitude=1, interval_num=1, sampling_freq=40, signal_freq=2, phase=0):\n",
    "    signal_interval = 1.0 / signal_freq\n",
    "    sampling_interval = 1.0 / sampling_freq\n",
    "\n",
    "    # momenty pobrania próbek - t\n",
    "    t = np.arange(0, interval_num * signal_interval, sampling_interval)\n",
    "    n = len(t)\n",
    "           \n",
    "    # funkcja sygnału - sin\n",
    "    FUNC = lambda x : amplitude * sin( 2*pi * x * signal_freq + phase)\n",
    "    # przebieg sygnału\n",
    "    signal = FUNC(t)\n",
    "\n",
    "    # pomocniczy sygnał (momenty pobierania próbek oraz przebieg)\n",
    "    base_t = np.arange(0, interval_num * signal_interval, 1.0 / 200.0) \n",
    "    base_signal = FUNC(base_t)\n",
    "    \n",
    "    # przygotowanie figury \n",
    "    fig = plt.figure(figsize=(15, 6), dpi=80)\n",
    "    # narysowanie pierwszego wykresu\n",
    "    ax = fig.add_subplot(121)\n",
    "    ax.plot(base_t, base_signal, linestyle='-', color='red')\n",
    "    ax.plot(t, signal, 'o')\n",
    "    ax.set_ylim([min(base_signal), max(base_signal)])\n",
    "    # ax.set_ylim([-amplitude, amplitude])\n",
    "    ax.set_xlabel('Czas [s]')\n",
    "    ax.set_ylabel('Wartość sygnału')\n",
    "    ax.xaxis.set_minor_locator(AutoMinorLocator(5))\n",
    "    ax.yaxis.set_minor_locator(AutoMinorLocator(5))\n",
    "    ax.grid()\n",
    "\n",
    "    # moduł sygnału w dziedzinie czestotliwosci \n",
    "    freq_domain_signal = abs(fft.fft(signal)) / (0.5 * n)\n",
    "    # zakres częstotliwości w oparciu o częstotliwość próbkowania\n",
    "    freqs = linspace(0, sampling_freq, n, False)\n",
    "\n",
    "    # narysowanie drugiego wykresu\n",
    "    ax = fig.add_subplot(122)\n",
    "    ax.set_ylim([0.0, max([3.0, max(freq_domain_signal)])])\n",
    "    ax.set_xlabel('Częstotliwość [Hz]')\n",
    "    ax.set_ylabel('Moduł dyskretnej transformaty Fouriera')\n",
    "    ax.xaxis.set_minor_locator(AutoMinorLocator(5))\n",
    "    ax.yaxis.set_minor_locator(AutoMinorLocator(5))\n",
    "    stem(freqs, freq_domain_signal, '-*')\n",
    "    \n",
    "    print('freq_domain_signal - ', angle(fft.fft(signal), deg=True))\n",
    "\n",
    "    show()\n",
    "\n",
    "draw_signal_with_phase(amplitude=1, interval_num=1, sampling_freq=20, signal_freq=1, phase=0)"
   ]
  },
  {
   "cell_type": "code",
   "execution_count": 188,
   "metadata": {
    "collapsed": true
   },
   "outputs": [
    {
     "name": "stdout",
     "output_type": "stream",
     "text": [
      "freq_domain_signal -  [-180.          -45.          115.75060489 -154.08937024  180.\n",
      "  -80.53767779    0.            7.18277214   51.97889036   90.\n",
      " -180.          -90.          -51.97889036   -7.18277214   -0.\n",
      "   80.53767779 -180.          154.08937024 -115.75060489   45.        ]\n"
     ]
    },
    {
     "data": {
      "image/png": "[encoded data removed]",
      "text/plain": [
       "<Figure size 1200x480 with 2 Axes>"
      ]
     },
     "metadata": {},
     "output_type": "display_data"
    }
   ],
   "source": [
    "# faza = pi/4\n",
    "draw_signal_with_phase(amplitude=1, interval_num=1, sampling_freq=20, signal_freq=1, phase=pi/4)"
   ]
  },
  {
   "cell_type": "markdown",
   "metadata": {},
   "source": [
    "# Zadanie 4"
   ]
  },
  {
   "cell_type": "markdown",
   "metadata": {},
   "source": [
    "Oblicz wynik ifft(fft(x)), gdzie x=random.random(10). Czy jakaś informacja została stracona?"
   ]
  },
  {
   "cell_type": "markdown",
   "metadata": {},
   "source": [
    "<font color=\"red\">\n",
    "Odpowiedź: Poza drobną różnicą na ostatnich miejscach po przecinku wynik funkcji ifft, wywołanej na danych po transformacji fft, przywraca oryginalną wartość danych. \n",
    "</font>"
   ]
  },
  {
   "cell_type": "code",
   "execution_count": 197,
   "metadata": {
    "collapsed": true
   },
   "outputs": [
    {
     "name": "stdout",
     "output_type": "stream",
     "text": [
      "[0.06798126 0.913135   0.3557363  0.71029882 0.90008098 0.20326394\n",
      " 0.96501619 0.8647723  0.46248364 0.90139097]\n"
     ]
    }
   ],
   "source": [
    "# wygeneruj wektor x\n",
    "x = random.random(10)\n",
    "print(x)"
   ]
  },
  {
   "cell_type": "code",
   "execution_count": 212,
   "metadata": {
    "collapsed": true
   },
   "outputs": [
    {
     "name": "stdout",
     "output_type": "stream",
     "text": [
      "[ 6.3441594 -0.j         -0.41007552+0.27970075j -0.52790185-0.100979j\n",
      "  0.49265015-0.10295393j -1.96606484+0.00031933j -0.84156266-0.j\n",
      " -1.96606484-0.00031933j  0.49265015+0.10295393j -0.52790185+0.100979j\n",
      " -0.41007552-0.27970075j]\n"
     ]
    }
   ],
   "source": [
    "# oblicz fft z x\n",
    "y = fft.fft(x)\n",
    "print(y)"
   ]
  },
  {
   "cell_type": "code",
   "execution_count": 213,
   "metadata": {
    "collapsed": true
   },
   "outputs": [
    {
     "name": "stdout",
     "output_type": "stream",
     "text": [
      "[0.06798126+0.j 0.913135  +0.j 0.3557363 +0.j 0.71029882+0.j\n",
      " 0.90008098+0.j 0.20326394+0.j 0.96501619+0.j 0.8647723 +0.j\n",
      " 0.46248364+0.j 0.90139097+0.j]\n"
     ]
    }
   ],
   "source": [
    "# oblicz ifft\n",
    "z = fft.ifft(y)\n",
    "print(z)"
   ]
  },
  {
   "cell_type": "code",
   "execution_count": 214,
   "metadata": {
    "collapsed": true
   },
   "outputs": [
    {
     "name": "stdout",
     "output_type": "stream",
     "text": [
      "x[0]: 0.06798126209433264\n",
      "z[0]: 0.06798126209433271\n",
      "\n",
      "x[1]: 0.9131349977666113\n",
      "z[1]: 0.9131349977666116\n",
      "\n",
      "x[2]: 0.35573629734636714\n",
      "z[2]: 0.3557362973463672\n",
      "\n",
      "x[3]: 0.7102988225579249\n",
      "z[3]: 0.7102988225579249\n",
      "\n",
      "x[4]: 0.9000809829335698\n",
      "z[4]: 0.90008098293357\n",
      "\n",
      "x[5]: 0.2032639401873415\n",
      "z[5]: 0.20326394018734142\n",
      "\n",
      "x[6]: 0.965016188817143\n",
      "z[6]: 0.9650161888171431\n",
      "\n",
      "x[7]: 0.8647722985002583\n",
      "z[7]: 0.8647722985002583\n",
      "\n",
      "x[8]: 0.4624836403397621\n",
      "z[8]: 0.46248364033976214\n",
      "\n",
      "x[9]: 0.9013909692602493\n",
      "z[9]: 0.9013909692602495\n",
      "\n"
     ]
    }
   ],
   "source": [
    "# porownaj x z ifft(fft(x)), wystarczy print\n",
    "for i in range(len(x)):\n",
    "    print(f'x[{i}]: {x[i]}')\n",
    "    print(f'z[{i}]: {z[i].real}\\n')\n"
   ]
  }
 ],
 "metadata": {
  "kernelspec": {
   "display_name": "Python 3",
   "language": "python",
   "name": "python3"
  },
  "language_info": {
   "codemirror_mode": {
    "name": "ipython",
    "version": 3
   },
   "file_extension": ".py",
   "mimetype": "text/x-python",
   "name": "python",
   "nbconvert_exporter": "python",
   "pygments_lexer": "ipython3",
   "version": "3.13.0"
  }
 },
 "nbformat": 4,
 "nbformat_minor": 1
}
