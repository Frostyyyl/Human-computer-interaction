{
 "cells": [
  {
   "cell_type": "markdown",
   "metadata": {},
   "source": [
    "Necessary imports:"
   ]
  },
  {
   "cell_type": "code",
   "execution_count": 5,
   "metadata": {},
   "outputs": [],
   "source": [
    "import matplotlib.pyplot as plt\n",
    "import numpy as np\n",
    "from matplotlib import colors"
   ]
  },
  {
   "cell_type": "markdown",
   "metadata": {},
   "source": [
    "Implemented gradients:"
   ]
  },
  {
   "cell_type": "code",
   "execution_count": 6,
   "metadata": {},
   "outputs": [],
   "source": [
    "def hsv2rgb(h, s, v): # supporting function converting hsv to rgb\n",
    "    hsv = np.zeros(shape=(1, 3), dtype=float)\n",
    "    hsv[0, 0] = h\n",
    "    hsv[0, 1] = s\n",
    "    hsv[0, 2] = v\n",
    "    rgb = colors.hsv_to_rgb(hsv)\n",
    "    r, g, b = rgb[0, 0], rgb[0, 1], rgb[0, 2]\n",
    "    return (r, g, b)\n",
    "\n",
    "# gradients\n",
    "\n",
    "def gradient_rgb_bw(v):\n",
    "    return (v, v, v)\n",
    "\n",
    "\n",
    "def gradient_rgb_gbr(v):\n",
    "    red = 0\n",
    "    green = 0\n",
    "    blue = 0\n",
    "\n",
    "    if v <= 1/2:\n",
    "        green = 1 - (v * 2)\n",
    "        blue = 2 * v\n",
    "    else:\n",
    "        red = (v * 2) - 1\n",
    "        blue = 2 - (v * 2)\n",
    "\n",
    "    return (red, green, blue)\n",
    "\n",
    "\n",
    "def gradient_rgb_gbr_full(v):\n",
    "    red = 0\n",
    "    green = 0\n",
    "    blue = 0\n",
    "\n",
    "    if v <= 0.25:\n",
    "        green = 1\n",
    "        blue = v * 4\n",
    "    elif v <= 0.5:\n",
    "        green = 2 - (v * 4)\n",
    "        blue = 1\n",
    "    elif v <= 0.75:\n",
    "        red = (v * 4) - 2\n",
    "        blue = 1\n",
    "    else:\n",
    "        red = 1\n",
    "        blue = 4 - (v * 4)\n",
    "\n",
    "    return (red, green, blue)\n",
    "\n",
    "\n",
    "def gradient_rgb_wb_custom(v):\n",
    "    red = 1\n",
    "    green = 1\n",
    "    blue = 1\n",
    "\n",
    "    if v <= 1/7:\n",
    "        green = 1 - (v * 7)\n",
    "    elif v <= 2/7:\n",
    "        red = 2 - (v * 7)\n",
    "        green = 0\n",
    "    elif v <= 3/7:\n",
    "        red = 0\n",
    "        green = (v * 7) - 2\n",
    "    elif v <= 4/7:\n",
    "        red = 0\n",
    "        blue = 4 - (v * 7)\n",
    "    elif v <= 5/7:\n",
    "        red = (v * 7) - 4\n",
    "        blue = 0\n",
    "    elif v <= 6/7:\n",
    "        green = 6 - (v * 7)\n",
    "        blue = 0\n",
    "    else:\n",
    "        red = 7 - (v * 7)\n",
    "        green = 0\n",
    "        blue = 0\n",
    "\n",
    "    return (red, green, blue)\n",
    "\n",
    "\n",
    "def gradient_hsv_bw(v):\n",
    "    return hsv2rgb(0, 0, v)\n",
    "\n",
    "\n",
    "def gradient_hsv_gbr(v):\n",
    "    return hsv2rgb(1/3 + (v * 2)/3, 1, 1)\n",
    "\n",
    "\n",
    "def gradient_hsv_unknown(v):\n",
    "    return hsv2rgb(1/3 - v/3, 1/2, 1)\n",
    "\n",
    "\n",
    "def gradient_hsv_custom(v):\n",
    "    return hsv2rgb(v, 1 - v, 1)"
   ]
  },
  {
   "cell_type": "markdown",
   "metadata": {},
   "source": [
    "Supporting functions used for drawing the plot:"
   ]
  },
  {
   "cell_type": "code",
   "execution_count": 7,
   "metadata": {},
   "outputs": [],
   "source": [
    "def get_name(gradient):\n",
    "    return gradient.__name__.replace('gradient_', '').replace('_', '-').upper()\n",
    "\n",
    "def draw_plot(gradients, names):\n",
    "    # plt.rc('text', usetex=True) \n",
    "    # plt.rc('font', family='serif', serif=['Times'], size=10)\n",
    "    plt.rc('legend', fontsize=10)\n",
    "\n",
    "    column_width_pt = 400 # Show in latex using \\the\\linewidth\n",
    "    pt_per_inch = 72\n",
    "    size = column_width_pt / pt_per_inch\n",
    "\n",
    "    fig, axes = plt.subplots(nrows=len(gradients), sharex=True, figsize=(size, 0.75 * size))\n",
    "    fig.subplots_adjust(top=1.00, bottom=0.05, left=0.25, right=0.95)\n",
    "\n",
    "\n",
    "    for ax, gradient, name in zip(axes, gradients, names):\n",
    "        # Create image with two lines and draw gradient on it\n",
    "        img = np.zeros((2, 1024, 3))\n",
    "        for i, v in enumerate(np.linspace(0, 1, 1024)):\n",
    "            img[:, i] = gradient(v)\n",
    "\n",
    "        im = ax.imshow(img, aspect='auto')\n",
    "        im.set_extent([0, 1, 0, 1])\n",
    "        ax.yaxis.set_visible(False)\n",
    "\n",
    "        pos = list(ax.get_position().bounds)\n",
    "        x_text = pos[0] - 0.25\n",
    "        y_text = pos[1] + pos[3] / 2.\n",
    "        fig.text(x_text, y_text, name, va='center', ha='left', fontsize=10)\n",
    "\n",
    "    fig.savefig('gradients.pdf')"
   ]
  },
  {
   "cell_type": "markdown",
   "metadata": {},
   "source": [
    "Main function:"
   ]
  },
  {
   "cell_type": "code",
   "execution_count": 8,
   "metadata": {},
   "outputs": [
    {
     "data": {
      "image/png": "[encoded data removed]",
      "text/plain": [
       "<Figure size 555.556x416.667 with 8 Axes>"
      ]
     },
     "metadata": {},
     "output_type": "display_data"
    }
   ],
   "source": [
    "gradients = (gradient_rgb_bw, gradient_rgb_gbr, gradient_rgb_gbr_full, gradient_rgb_wb_custom,\n",
    "                 gradient_hsv_bw, gradient_hsv_gbr, gradient_hsv_unknown, gradient_hsv_custom)\n",
    "\n",
    "draw_plot(gradients, [get_name(g) for g in gradients])"
   ]
  }
 ],
 "metadata": {
  "kernelspec": {
   "display_name": "Python 3",
   "language": "python",
   "name": "python3"
  },
  "language_info": {
   "codemirror_mode": {
    "name": "ipython",
    "version": 3
   },
   "file_extension": ".py",
   "mimetype": "text/x-python",
   "name": "python",
   "nbconvert_exporter": "python",
   "pygments_lexer": "ipython3",
   "version": "3.13.0"
  }
 },
 "nbformat": 4,
 "nbformat_minor": 4
}
